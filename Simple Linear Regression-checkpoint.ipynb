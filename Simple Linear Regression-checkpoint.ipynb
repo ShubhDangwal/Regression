{
 "cells": [
  {
   "cell_type": "code",
   "execution_count": 1,
   "id": "7cf97032",
   "metadata": {},
   "outputs": [],
   "source": [
    "import numpy as np\n",
    "import pandas as pd\n",
    "import matplotlib.pyplot as plt"
   ]
  },
  {
   "cell_type": "markdown",
   "id": "a17bae25",
   "metadata": {},
   "source": [
    "## Creating a dataset for Simple Linear Regression"
   ]
  },
  {
   "cell_type": "code",
   "execution_count": 2,
   "id": "5f6892c3",
   "metadata": {},
   "outputs": [
    {
     "data": {
      "image/png": "[encoded data removed]",
      "text/plain": [
       "<Figure size 640x480 with 1 Axes>"
      ]
     },
     "metadata": {},
     "output_type": "display_data"
    }
   ],
   "source": [
    "from sklearn.datasets import make_regression\n",
    "x, y = make_regression(n_samples = 100, n_features=1,noise=20, random_state=23)\n",
    "plt.scatter(x, y)\n",
    "plt.show()"
   ]
  },
  {
   "cell_type": "markdown",
   "id": "2fcc5a8c",
   "metadata": {},
   "source": [
    "## Dividing data into training and testing"
   ]
  },
  {
   "cell_type": "code",
   "execution_count": 3,
   "id": "885460cc",
   "metadata": {},
   "outputs": [],
   "source": [
    "from sklearn.model_selection import train_test_split\n",
    "x_train, x_test, y_train, y_test = train_test_split(x,y,test_size=0.2)"
   ]
  },
  {
   "cell_type": "markdown",
   "id": "2e836a22",
   "metadata": {},
   "source": [
    "## Performing Linear Regression using sklearn's inbuilt LinearRegression class"
   ]
  },
  {
   "cell_type": "code",
   "execution_count": 4,
   "id": "268fdfbb",
   "metadata": {},
   "outputs": [
    {
     "data": {
      "text/html": [
       "<style>#sk-container-id-1 {color: black;}#sk-container-id-1 pre{padding: 0;}#sk-container-id-1 div.sk-toggleable {background-color: white;}#sk-container-id-1 label.sk-toggleable__label {cursor: pointer;display: block;width: 100%;margin-bottom: 0;padding: 0.3em;box-sizing: border-box;text-align: center;}#sk-container-id-1 label.sk-toggleable__label-arrow:before {content: \"▸\";float: left;margin-right: 0.25em;color: #696969;}#sk-container-id-1 label.sk-toggleable__label-arrow:hover:before {color: black;}#sk-container-id-1 div.sk-estimator:hover label.sk-toggleable__label-arrow:before {color: black;}#sk-container-id-1 div.sk-toggleable__content {max-height: 0;max-width: 0;overflow: hidden;text-align: left;background-color: #f0f8ff;}#sk-container-id-1 div.sk-toggleable__content pre {margin: 0.2em;color: black;border-radius: 0.25em;background-color: #f0f8ff;}#sk-container-id-1 input.sk-toggleable__control:checked~div.sk-toggleable__content {max-height: 200px;max-width: 100%;overflow: auto;}#sk-container-id-1 input.sk-toggleable__control:checked~label.sk-toggleable__label-arrow:before {content: \"▾\";}#sk-container-id-1 div.sk-estimator input.sk-toggleable__control:checked~label.sk-toggleable__label {background-color: #d4ebff;}#sk-container-id-1 div.sk-label input.sk-toggleable__control:checked~label.sk-toggleable__label {background-color: #d4ebff;}#sk-container-id-1 input.sk-hidden--visually {border: 0;clip: rect(1px 1px 1px 1px);clip: rect(1px, 1px, 1px, 1px);height: 1px;margin: -1px;overflow: hidden;padding: 0;position: absolute;width: 1px;}#sk-container-id-1 div.sk-estimator {font-family: monospace;background-color: #f0f8ff;border: 1px dotted black;border-radius: 0.25em;box-sizing: border-box;margin-bottom: 0.5em;}#sk-container-id-1 div.sk-estimator:hover {background-color: #d4ebff;}#sk-container-id-1 div.sk-parallel-item::after {content: \"\";width: 100%;border-bottom: 1px solid gray;flex-grow: 1;}#sk-container-id-1 div.sk-label:hover label.sk-toggleable__label {background-color: #d4ebff;}#sk-container-id-1 div.sk-serial::before {content: \"\";position: absolute;border-left: 1px solid gray;box-sizing: border-box;top: 0;bottom: 0;left: 50%;z-index: 0;}#sk-container-id-1 div.sk-serial {display: flex;flex-direction: column;align-items: center;background-color: white;padding-right: 0.2em;padding-left: 0.2em;position: relative;}#sk-container-id-1 div.sk-item {position: relative;z-index: 1;}#sk-container-id-1 div.sk-parallel {display: flex;align-items: stretch;justify-content: center;background-color: white;position: relative;}#sk-container-id-1 div.sk-item::before, #sk-container-id-1 div.sk-parallel-item::before {content: \"\";position: absolute;border-left: 1px solid gray;box-sizing: border-box;top: 0;bottom: 0;left: 50%;z-index: -1;}#sk-container-id-1 div.sk-parallel-item {display: flex;flex-direction: column;z-index: 1;position: relative;background-color: white;}#sk-container-id-1 div.sk-parallel-item:first-child::after {align-self: flex-end;width: 50%;}#sk-container-id-1 div.sk-parallel-item:last-child::after {align-self: flex-start;width: 50%;}#sk-container-id-1 div.sk-parallel-item:only-child::after {width: 0;}#sk-container-id-1 div.sk-dashed-wrapped {border: 1px dashed gray;margin: 0 0.4em 0.5em 0.4em;box-sizing: border-box;padding-bottom: 0.4em;background-color: white;}#sk-container-id-1 div.sk-label label {font-family: monospace;font-weight: bold;display: inline-block;line-height: 1.2em;}#sk-container-id-1 div.sk-label-container {text-align: center;}#sk-container-id-1 div.sk-container {/* jupyter's `normalize.less` sets `[hidden] { display: none; }` but bootstrap.min.css set `[hidden] { display: none !important; }` so we also need the `!important` here to be able to override the default hidden behavior on the sphinx rendered scikit-learn.org. See: https://github.com/scikit-learn/scikit-learn/issues/21755 */display: inline-block !important;position: relative;}#sk-container-id-1 div.sk-text-repr-fallback {display: none;}</style><div id=\"sk-container-id-1\" class=\"sk-top-container\"><div class=\"sk-text-repr-fallback\"><pre>LinearRegression()</pre><b>In a Jupyter environment, please rerun this cell to show the HTML representation or trust the notebook. <br />On GitHub, the HTML representation is unable to render, please try loading this page with nbviewer.org.</b></div><div class=\"sk-container\" hidden><div class=\"sk-item\"><div class=\"sk-estimator sk-toggleable\"><input class=\"sk-toggleable__control sk-hidden--visually\" id=\"sk-estimator-id-1\" type=\"checkbox\" checked><label for=\"sk-estimator-id-1\" class=\"sk-toggleable__label sk-toggleable__label-arrow\">LinearRegression</label><div class=\"sk-toggleable__content\"><pre>LinearRegression()</pre></div></div></div></div></div>"
      ],
      "text/plain": [
       "LinearRegression()"
      ]
     },
     "execution_count": 4,
     "metadata": {},
     "output_type": "execute_result"
    }
   ],
   "source": [
    "from sklearn.linear_model import LinearRegression\n",
    "reg = LinearRegression()\n",
    "reg.fit(x_train,y_train)"
   ]
  },
  {
   "cell_type": "code",
   "execution_count": 5,
   "id": "27d23ec3",
   "metadata": {},
   "outputs": [
    {
     "data": {
      "text/plain": [
       "array([64.53390962])"
      ]
     },
     "execution_count": 5,
     "metadata": {},
     "output_type": "execute_result"
    }
   ],
   "source": [
    "reg.coef_"
   ]
  },
  {
   "cell_type": "code",
   "execution_count": 6,
   "id": "67d97ced",
   "metadata": {},
   "outputs": [
    {
     "data": {
      "text/plain": [
       "-2.24924921423099"
      ]
     },
     "execution_count": 6,
     "metadata": {},
     "output_type": "execute_result"
    }
   ],
   "source": [
    "reg.intercept_"
   ]
  },
  {
   "cell_type": "code",
   "execution_count": 7,
   "id": "1891b618",
   "metadata": {},
   "outputs": [
    {
     "data": {
      "text/plain": [
       "array([ 78.07033104, -81.19066226,  -8.31767828,  43.03237497,\n",
       "        26.00561181,  76.76804908, -66.30391586,  57.18621281,\n",
       "        -8.77317015, -52.43207015,  40.99751549,  41.43118041,\n",
       "       -15.27480725, -25.96856612, -51.91448469, -12.66156236,\n",
       "        58.96980015,  10.1489848 ,   1.64491625,  13.93176077])"
      ]
     },
     "execution_count": 7,
     "metadata": {},
     "output_type": "execute_result"
    }
   ],
   "source": [
    "reg.predict(x_test)"
   ]
  },
  {
   "cell_type": "code",
   "execution_count": 8,
   "id": "bcfee456",
   "metadata": {},
   "outputs": [
    {
     "data": {
      "text/plain": [
       "array([ 56.31145205, -67.71502852,   4.41544547,  33.95539782,\n",
       "        11.65674248, 104.04393016, -62.46739171,  52.97079285,\n",
       "       -15.5009474 , -27.17417693,  43.3575457 ,  74.76933619,\n",
       "        17.23161479, -27.27821393, -69.50043533,  15.85238888,\n",
       "        53.19905574, -11.78987682,   4.97976813,   9.88355749])"
      ]
     },
     "execution_count": 8,
     "metadata": {},
     "output_type": "execute_result"
    }
   ],
   "source": [
    "y_test"
   ]
  },
  {
   "cell_type": "markdown",
   "id": "975e07e7",
   "metadata": {},
   "source": [
    "## Creating our own Regression Class"
   ]
  },
  {
   "cell_type": "markdown",
   "id": "b4dfdc90",
   "metadata": {},
   "source": [
    "\\begin{align}\n",
    "\\hat{\\beta}_1 = \\frac{\\sum_{i=1}^{N}(X_i - \\bar{X})(Y_i - \\bar{Y})}{\\sum_{i=1}^{N}(X_i - \\bar{X})^2}\\\\\\\\\n",
    "\\beta_0 = \\bar{Y} - \\hat{\\beta}_1 \\bar{X}\n",
    "\\end{align}"
   ]
  },
  {
   "cell_type": "code",
   "execution_count": 9,
   "id": "5540a7d7",
   "metadata": {},
   "outputs": [],
   "source": [
    "class MySimpleLinearRegression :\n",
    "    def __init__(self) :\n",
    "        self.coef_ = None # B1\n",
    "        self.intercept_ = None # B0\n",
    "    def fit(self,x_train,y_train):\n",
    "        num = 0 \n",
    "        den = 0 \n",
    "        for i in range(x_train.shape[0]):\n",
    "            num = num + ((x_train[i]-x_train.mean())*(y_train[i]-y_train.mean()))\n",
    "            den = den + (x_train[i]-x_train.mean())**2\n",
    "        self.coef_ = num/den\n",
    "        self.intercept_ = y_train.mean() - (self.coef_*x_train.mean())\n",
    "    def predict(self,x_test):\n",
    "        return self.coef_*x_test + self.intercept_"
   ]
  },
  {
   "cell_type": "markdown",
   "id": "ffe24322",
   "metadata": {},
   "source": [
    "## Comparing the outcomes of our class with inbuilt sklearn LinearRegression class"
   ]
  },
  {
   "cell_type": "code",
   "execution_count": 10,
   "id": "3091a232",
   "metadata": {},
   "outputs": [],
   "source": [
    "MyLR = MySimpleLinearRegression()"
   ]
  },
  {
   "cell_type": "code",
   "execution_count": 11,
   "id": "3f136159",
   "metadata": {},
   "outputs": [],
   "source": [
    "MyLR.fit(x_train,y_train)"
   ]
  },
  {
   "cell_type": "code",
   "execution_count": 12,
   "id": "ad97b723",
   "metadata": {},
   "outputs": [
    {
     "data": {
      "text/plain": [
       "array([64.53390962])"
      ]
     },
     "execution_count": 12,
     "metadata": {},
     "output_type": "execute_result"
    }
   ],
   "source": [
    "MyLR.coef_"
   ]
  },
  {
   "cell_type": "code",
   "execution_count": 13,
   "id": "344e889a",
   "metadata": {},
   "outputs": [
    {
     "data": {
      "text/plain": [
       "array([-2.24924921])"
      ]
     },
     "execution_count": 13,
     "metadata": {},
     "output_type": "execute_result"
    }
   ],
   "source": [
    "MyLR.intercept_"
   ]
  },
  {
   "cell_type": "code",
   "execution_count": 14,
   "id": "41e53466",
   "metadata": {},
   "outputs": [
    {
     "data": {
      "text/plain": [
       "array([[ 78.07033104],\n",
       "       [-81.19066226],\n",
       "       [ -8.31767828],\n",
       "       [ 43.03237497],\n",
       "       [ 26.00561181],\n",
       "       [ 76.76804908],\n",
       "       [-66.30391586],\n",
       "       [ 57.18621281],\n",
       "       [ -8.77317015],\n",
       "       [-52.43207015],\n",
       "       [ 40.99751549],\n",
       "       [ 41.43118041],\n",
       "       [-15.27480725],\n",
       "       [-25.96856612],\n",
       "       [-51.91448469],\n",
       "       [-12.66156236],\n",
       "       [ 58.96980015],\n",
       "       [ 10.1489848 ],\n",
       "       [  1.64491625],\n",
       "       [ 13.93176077]])"
      ]
     },
     "execution_count": 14,
     "metadata": {},
     "output_type": "execute_result"
    }
   ],
   "source": [
    "MyLR.predict(x_test)"
   ]
  }
 ],
 "metadata": {
  "kernelspec": {
   "display_name": "Python 3 (ipykernel)",
   "language": "python",
   "name": "python3"
  },
  "language_info": {
   "codemirror_mode": {
    "name": "ipython",
    "version": 3
   },
   "file_extension": ".py",
   "mimetype": "text/x-python",
   "name": "python",
   "nbconvert_exporter": "python",
   "pygments_lexer": "ipython3",
   "version": "3.11.4"
  }
 },
 "nbformat": 4,
 "nbformat_minor": 5
}
